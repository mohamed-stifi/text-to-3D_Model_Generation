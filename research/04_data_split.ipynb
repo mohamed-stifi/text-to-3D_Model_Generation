{
 "cells": [
  {
   "cell_type": "code",
   "execution_count": 1,
   "metadata": {},
   "outputs": [
    {
     "data": {
      "text/plain": [
       "'c:\\\\Users\\\\lenovo\\\\Desktop\\\\Stage\\\\text-to-3D_Model_Generation\\\\research'"
      ]
     },
     "execution_count": 1,
     "metadata": {},
     "output_type": "execute_result"
    }
   ],
   "source": [
    "%pwd"
   ]
  },
  {
   "cell_type": "code",
   "execution_count": 2,
   "metadata": {},
   "outputs": [
    {
     "data": {
      "text/plain": [
       "'c:\\\\Users\\\\lenovo\\\\Desktop\\\\Stage\\\\text-to-3D_Model_Generation'"
      ]
     },
     "execution_count": 2,
     "metadata": {},
     "output_type": "execute_result"
    }
   ],
   "source": [
    "import os\n",
    "os.chdir(\"..\")\n",
    "%pwd"
   ]
  },
  {
   "cell_type": "code",
   "execution_count": 3,
   "metadata": {},
   "outputs": [],
   "source": [
    "from dataclasses import dataclass\n",
    "from pathlib import Path\n",
    "\n",
    "@dataclass(frozen=True)\n",
    "class DataSplitConfig:\n",
    "    local_data_file: Path\n",
    "    output_dir : Path\n",
    "    train_ratio: float\n",
    "    test_ratio: float\n",
    "    val_ratio: float"
   ]
  },
  {
   "cell_type": "code",
   "execution_count": 4,
   "metadata": {},
   "outputs": [
    {
     "name": "stderr",
     "output_type": "stream",
     "text": [
      "c:\\Users\\lenovo\\Desktop\\Stage\\text-to-3D_Model_Generation\\.venv37\\lib\\site-packages\\tqdm\\auto.py:21: TqdmWarning: IProgress not found. Please update jupyter and ipywidgets. See https://ipywidgets.readthedocs.io/en/stable/user_install.html\n",
      "  from .autonotebook import tqdm as notebook_tqdm\n"
     ]
    }
   ],
   "source": [
    "from textTo3DModelGen.constants import *\n",
    "from textTo3DModelGen.utils.common import read_yaml, create_directories"
   ]
  },
  {
   "cell_type": "code",
   "execution_count": 5,
   "metadata": {},
   "outputs": [],
   "source": [
    "class ConfigurationManager:\n",
    "    def __init__(\n",
    "            self, \n",
    "            config_filepath = CONFIG_FILE_PATH,\n",
    "            params_filepath = HYPER_PARAMS_FILE_PATH):\n",
    "        \n",
    "        self.config = read_yaml(config_filepath)\n",
    "        self.params = read_yaml(params_filepath)\n",
    "\n",
    "        create_directories([\n",
    "            self.config.artifacts_root\n",
    "        ])\n",
    "\n",
    "    def get_data_split_config(self) -> DataSplitConfig:\n",
    "        config = self.config.data_split\n",
    "\n",
    "        create_directories([\n",
    "            config.output_dir\n",
    "        ])\n",
    "\n",
    "        data_split_config = DataSplitConfig(\n",
    "            local_data_file= config.local_data_file,\n",
    "            output_dir= config.output_dir,\n",
    "            train_ratio= config.train_ratio,\n",
    "            test_ratio= config.test_ratio,\n",
    "            val_ratio= config.val_ratio\n",
    "        )\n",
    "\n",
    "        return data_split_config\n"
   ]
  },
  {
   "cell_type": "code",
   "execution_count": 6,
   "metadata": {},
   "outputs": [],
   "source": [
    "from textTo3DModelGen import logger\n",
    "from textTo3DModelGen.utils.common import save_list_to_textfile\n",
    "import random\n",
    "import pandas as pd"
   ]
  },
  {
   "cell_type": "code",
   "execution_count": 7,
   "metadata": {},
   "outputs": [],
   "source": [
    "class DataSplit:\n",
    "    def __init__(self, config: DataSplitConfig):\n",
    "        self.config = config\n",
    "\n",
    "    def split_data(self):\n",
    "        try:\n",
    "            data = pd.read_csv(self.config.local_data_file)\n",
    "            logger.info(f\"Read of data from {self.config.local_data_file} is done.\")\n",
    "\n",
    "            uids = data[\"uids\"].to_list()\n",
    "\n",
    "            random.shuffle(uids)\n",
    "            logger.info(f\"Shuffle the list of uids is done.\")\n",
    "\n",
    "            # Compute the indices for splitting\n",
    "            train_size = int(self.config.train_ratio * len(uids))\n",
    "            val_size = int(self.config.val_ratio * len(uids))\n",
    "            test_size = len(uids) - train_size - val_size \n",
    "            logger.info(f\"train_size: {train_size} || val_size: {val_size} || test_size: {test_size}.\")\n",
    "\n",
    "            # Split the list\n",
    "            train_uids = uids[:train_size]\n",
    "            val_uids = uids[train_size:train_size + val_size]\n",
    "            test_uids = uids[train_size + val_size:]\n",
    "\n",
    "            train_filename = os.path.join(self.config.output_dir, \"train.txt\")\n",
    "            test_filename = os.path.join(self.config.output_dir, \"test.txt\")\n",
    "            val_filename = os.path.join(self.config.output_dir, \"val.txt\")\n",
    "\n",
    "            # Save the train, validation, and test IDs to text files\n",
    "            save_list_to_textfile(train_filename, train_uids, \"train_uids\")\n",
    "            save_list_to_textfile(test_filename, test_uids, \"test_uids\")\n",
    "            save_list_to_textfile(val_filename, val_uids, \"val_uids\")\n",
    "        except Exception as e:\n",
    "            raise e"
   ]
  },
  {
   "cell_type": "code",
   "execution_count": 8,
   "metadata": {},
   "outputs": [
    {
     "name": "stdout",
     "output_type": "stream",
     "text": [
      "[2024-09-02 16:02:26,743: INFO: yaml file: config\\config.yaml loaded successfully]\n",
      "[2024-09-02 16:02:26,745: INFO: yaml file: hyper_params.yaml loaded successfully]\n",
      "[2024-09-02 16:02:26,747: INFO: created directory at: artifacts]\n",
      "[2024-09-02 16:02:26,749: INFO: created directory at: artifacts/data_split]\n",
      "[2024-09-02 16:02:26,860: INFO: Read of data from artifacts/data_ingestion/objaverse_with_description.csv is done.]\n",
      "[2024-09-02 16:02:26,870: INFO: Shuffle the list of uids is done.]\n",
      "[2024-09-02 16:02:26,872: INFO: train_size: 1 || val_size: 0 || test_size: 1.]\n",
      "[2024-09-02 16:02:26,875: INFO: train_uids saved to artifacts/data_split\\train.txt.]\n",
      "[2024-09-02 16:02:26,878: INFO: test_uids saved to artifacts/data_split\\test.txt.]\n",
      "[2024-09-02 16:02:26,881: INFO: val_uids saved to artifacts/data_split\\val.txt.]\n"
     ]
    }
   ],
   "source": [
    "try:\n",
    "    config = ConfigurationManager()\n",
    "    data_split_config = config.get_data_split_config()\n",
    "    data_split = DataSplit(config= data_split_config)\n",
    "    data_split.split_data()\n",
    "except Exception as e:\n",
    "    raise e"
   ]
  },
  {
   "cell_type": "code",
   "execution_count": null,
   "metadata": {},
   "outputs": [],
   "source": []
  }
 ],
 "metadata": {
  "kernelspec": {
   "display_name": ".venv37",
   "language": "python",
   "name": "python3"
  },
  "language_info": {
   "codemirror_mode": {
    "name": "ipython",
    "version": 3
   },
   "file_extension": ".py",
   "mimetype": "text/x-python",
   "name": "python",
   "nbconvert_exporter": "python",
   "pygments_lexer": "ipython3",
   "version": "3.7.9"
  }
 },
 "nbformat": 4,
 "nbformat_minor": 2
}
