{
 "cells": [
  {
   "cell_type": "code",
   "execution_count": 1,
   "metadata": {},
   "outputs": [
    {
     "data": {
      "text/plain": [
       "'c:\\\\Users\\\\lenovo\\\\Desktop\\\\Stage\\\\text-to-3D_Model_Generation\\\\research'"
      ]
     },
     "execution_count": 1,
     "metadata": {},
     "output_type": "execute_result"
    }
   ],
   "source": [
    "import os\n",
    "%pwd"
   ]
  },
  {
   "cell_type": "code",
   "execution_count": 2,
   "metadata": {},
   "outputs": [],
   "source": [
    "os.chdir(\"../\")"
   ]
  },
  {
   "cell_type": "code",
   "execution_count": 3,
   "metadata": {},
   "outputs": [
    {
     "data": {
      "text/plain": [
       "'c:\\\\Users\\\\lenovo\\\\Desktop\\\\Stage\\\\text-to-3D_Model_Generation'"
      ]
     },
     "execution_count": 3,
     "metadata": {},
     "output_type": "execute_result"
    }
   ],
   "source": [
    "%pwd"
   ]
  },
  {
   "cell_type": "code",
   "execution_count": 4,
   "metadata": {},
   "outputs": [],
   "source": [
    "from dataclasses import dataclass\n",
    "from pathlib import Path\n",
    "\n",
    "@dataclass(frozen=True)\n",
    "class DataRenderingConfig:\n",
    "    local_data_file : Path\n",
    "    render_script : Path\n",
    "    output_dir : Path\n",
    "    num_images : int\n",
    "    resolution : int\n",
    "    engine : str\n",
    "    camera_dist: float"
   ]
  },
  {
   "cell_type": "code",
   "execution_count": 5,
   "metadata": {},
   "outputs": [
    {
     "name": "stderr",
     "output_type": "stream",
     "text": [
      "c:\\Users\\lenovo\\Desktop\\Stage\\text-to-3D_Model_Generation\\.venv37\\lib\\site-packages\\tqdm\\auto.py:21: TqdmWarning: IProgress not found. Please update jupyter and ipywidgets. See https://ipywidgets.readthedocs.io/en/stable/user_install.html\n",
      "  from .autonotebook import tqdm as notebook_tqdm\n"
     ]
    }
   ],
   "source": [
    "from textTo3DModelGen.constants import *\n",
    "from textTo3DModelGen.utils.common import read_yaml, create_directories"
   ]
  },
  {
   "cell_type": "code",
   "execution_count": 6,
   "metadata": {},
   "outputs": [],
   "source": [
    "class ConfigurationManager:\n",
    "    def __init__(\n",
    "            self, \n",
    "            config_filepath = CONFIG_FILE_PATH,\n",
    "            params_filepath = HYPER_PARAMS_FILE_PATH):\n",
    "        \n",
    "        self.config = read_yaml(config_filepath)\n",
    "        self.params = read_yaml(params_filepath)\n",
    "\n",
    "        create_directories([\n",
    "            self.config.artifacts_root\n",
    "        ])\n",
    "\n",
    "    def get_data_rendering_config(self) -> DataRenderingConfig:\n",
    "        config = self.config.data_rendering\n",
    "\n",
    "        create_directories([\n",
    "            config.output_dir\n",
    "        ])\n",
    "\n",
    "        data_rendering_config = DataRenderingConfig(\n",
    "            local_data_file = config.local_data_file,\n",
    "            render_script = config.render_script,\n",
    "            output_dir = config.output_dir,\n",
    "            num_images = config.num_images,\n",
    "            resolution = config.resolution,\n",
    "            engine = config.engine,\n",
    "            camera_dist = config.camera_dist\n",
    "        )\n",
    "\n",
    "        return data_rendering_config\n"
   ]
  },
  {
   "cell_type": "code",
   "execution_count": 7,
   "metadata": {},
   "outputs": [],
   "source": [
    "from textTo3DModelGen import logger\n",
    "from textTo3DModelGen.utils.common import get_size\n",
    "import pandas as pd"
   ]
  },
  {
   "cell_type": "code",
   "execution_count": 8,
   "metadata": {},
   "outputs": [],
   "source": [
    "class DataRendering:\n",
    "    def __init__(self, config: DataRenderingConfig):\n",
    "        self.config = config\n",
    "        self.render_cmd = f\"blender -b -P {self.config.render_script} -- \\\n",
    "                            --object_path %s \\\n",
    "                            --output_dir {self.config.output_dir} \\\n",
    "                            --engine {self.config.engine} \\\n",
    "                            --num_images {self.config.num_images} \\\n",
    "                            --camera_dist {self.config.camera_dist} \\\n",
    "                            --resolution {self.config.resolution}\"\n",
    "\n",
    "    def render_all(self):\n",
    "        try:\n",
    "            data = pd.read_csv(self.config.local_data_file)\n",
    "            logger.info(f\"Read of data from {self.config.local_data_file} is done.\")\n",
    "\n",
    "            for obj in data[\"saved_path\"]:\n",
    "                file_path = obj.replace(\"/root\", \"C:/Users/lenovo\")\n",
    "                if os.path.exists(file_path):\n",
    "                    logger.info(f\"Start rendering of the model {os.path.basename(file_path)}.\")\n",
    "                    os.system(self.render_cmd%(file_path))\n",
    "                    logger.info(f\"End rendering of the model {os.path.basename(file_path)}.\")\n",
    "                else:\n",
    "                    logger.info(f\"The file {file_path} does not exist.\")\n",
    "        except Exception as e:\n",
    "            raise e"
   ]
  },
  {
   "cell_type": "code",
   "execution_count": 10,
   "metadata": {},
   "outputs": [
    {
     "name": "stdout",
     "output_type": "stream",
     "text": [
      "[2024-09-01 14:20:30,276: INFO: yaml file: config\\config.yaml loaded successfully]\n",
      "[2024-09-01 14:20:30,281: INFO: yaml file: hyper_params.yaml loaded successfully]\n",
      "[2024-09-01 14:20:30,283: INFO: created directory at: artifacts]\n",
      "[2024-09-01 14:20:30,285: INFO: created directory at: artifacts/dataset]\n",
      "[2024-09-01 14:20:30,290: INFO: Read of data from artifacts/data_ingestion/objaverse_with_description.csv is done.]\n",
      "[2024-09-01 14:20:30,295: INFO: Start rendering of the model ed51a51909ee46c780db3a85e821feb2.glb.]\n"
     ]
    },
    {
     "name": "stdout",
     "output_type": "stream",
     "text": [
      "[2024-09-01 14:20:56,135: INFO: End rendering of the model ed51a51909ee46c780db3a85e821feb2.glb.]\n",
      "[2024-09-01 14:20:56,137: INFO: Start rendering of the model 9110b606f6c547b2980fcb3c8c4b6a1c.glb.]\n",
      "[2024-09-01 14:23:29,085: INFO: End rendering of the model 9110b606f6c547b2980fcb3c8c4b6a1c.glb.]\n"
     ]
    }
   ],
   "source": [
    "try:\n",
    "    config = ConfigurationManager()\n",
    "    data_rendering_config = config.get_data_rendering_config()\n",
    "    data_rendering = DataRendering(config= data_rendering_config)\n",
    "    data_rendering.render_all()\n",
    "except Exception as e:\n",
    "    raise e"
   ]
  },
  {
   "cell_type": "code",
   "execution_count": null,
   "metadata": {},
   "outputs": [],
   "source": []
  }
 ],
 "metadata": {
  "kernelspec": {
   "display_name": ".venv37",
   "language": "python",
   "name": "python3"
  },
  "language_info": {
   "codemirror_mode": {
    "name": "ipython",
    "version": 3
   },
   "file_extension": ".py",
   "mimetype": "text/x-python",
   "name": "python",
   "nbconvert_exporter": "python",
   "pygments_lexer": "ipython3",
   "version": "3.7.9"
  }
 },
 "nbformat": 4,
 "nbformat_minor": 2
}
