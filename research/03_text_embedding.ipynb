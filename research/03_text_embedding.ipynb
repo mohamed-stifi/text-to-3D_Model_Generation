{
 "cells": [
  {
   "cell_type": "code",
   "execution_count": 1,
   "metadata": {},
   "outputs": [
    {
     "data": {
      "text/plain": [
       "'c:\\\\Users\\\\lenovo\\\\Desktop\\\\Stage\\\\text-to-3D_Model_Generation\\\\research'"
      ]
     },
     "execution_count": 1,
     "metadata": {},
     "output_type": "execute_result"
    }
   ],
   "source": [
    "%pwd"
   ]
  },
  {
   "cell_type": "code",
   "execution_count": 2,
   "metadata": {},
   "outputs": [
    {
     "data": {
      "text/plain": [
       "'c:\\\\Users\\\\lenovo\\\\Desktop\\\\Stage\\\\text-to-3D_Model_Generation'"
      ]
     },
     "execution_count": 2,
     "metadata": {},
     "output_type": "execute_result"
    }
   ],
   "source": [
    "import os\n",
    "os.chdir(\"..\")\n",
    "%pwd"
   ]
  },
  {
   "cell_type": "code",
   "execution_count": 4,
   "metadata": {},
   "outputs": [],
   "source": [
    "from dataclasses import dataclass\n",
    "from pathlib import Path\n",
    "\n",
    "@dataclass(frozen=True)\n",
    "class TextEmbeddingConfig:\n",
    "    local_data_file: Path\n",
    "    embedding_dir: Path\n",
    "    model_name: str\n",
    "    cache_dir: Path"
   ]
  },
  {
   "cell_type": "code",
   "execution_count": 5,
   "metadata": {},
   "outputs": [
    {
     "name": "stderr",
     "output_type": "stream",
     "text": [
      "c:\\Users\\lenovo\\Desktop\\Stage\\text-to-3D_Model_Generation\\.venv37\\lib\\site-packages\\tqdm\\auto.py:21: TqdmWarning: IProgress not found. Please update jupyter and ipywidgets. See https://ipywidgets.readthedocs.io/en/stable/user_install.html\n",
      "  from .autonotebook import tqdm as notebook_tqdm\n"
     ]
    }
   ],
   "source": [
    "from textTo3DModelGen.constants import *\n",
    "from textTo3DModelGen.utils.common import read_yaml, create_directories"
   ]
  },
  {
   "cell_type": "code",
   "execution_count": 7,
   "metadata": {},
   "outputs": [],
   "source": [
    "class ConfigurationManager:\n",
    "    def __init__(\n",
    "            self, \n",
    "            config_filepath = CONFIG_FILE_PATH,\n",
    "            params_filepath = HYPER_PARAMS_FILE_PATH):\n",
    "        \n",
    "        self.config = read_yaml(config_filepath)\n",
    "        self.params = read_yaml(params_filepath)\n",
    "\n",
    "        create_directories([\n",
    "            self.config.artifacts_root\n",
    "        ])\n",
    "\n",
    "    def get_text_embedding_config(self) -> TextEmbeddingConfig:\n",
    "        config = self.config.text_embedding\n",
    "\n",
    "        text_embedding_config = TextEmbeddingConfig(\n",
    "            local_data_file = config.local_data_file,\n",
    "            embedding_dir = config.embedding_dir,\n",
    "            model_name = config.model_name,\n",
    "            cache_dir = config.cache_dir\n",
    "        )\n",
    "\n",
    "        return text_embedding_config\n"
   ]
  },
  {
   "cell_type": "code",
   "execution_count": 8,
   "metadata": {},
   "outputs": [],
   "source": [
    "from textTo3DModelGen import logger\n",
    "import pandas as pd\n",
    "from transformers import CLIPProcessor, CLIPModel\n",
    "import torch"
   ]
  },
  {
   "cell_type": "code",
   "execution_count": 11,
   "metadata": {},
   "outputs": [],
   "source": [
    "class TextEmbedding:\n",
    "    def __init__(self, config: TextEmbeddingConfig):\n",
    "        self.config = config\n",
    "        \n",
    "    # Function to convert text to latent vectors\n",
    "    def text_to_latent_vector(self, texts, model, processor):\n",
    "        # Preprocess the texts\n",
    "        inputs = processor(text=texts, return_tensors=\"pt\", padding=True, truncation=True)\n",
    "        # Forward pass through the model\n",
    "        with torch.no_grad():\n",
    "            outputs = model.get_text_features(**inputs)\n",
    "        return outputs\n",
    "\n",
    "    def embedding_all(self):\n",
    "        try:\n",
    "            data = pd.read_csv(self.config.local_data_file)\n",
    "            logger.info(f\"Read of data from {self.config.local_data_file} is done.\")\n",
    "\n",
    "            model = CLIPModel.from_pretrained(self.config.model_name, cache_dir=self.config.cache_dir)\n",
    "            logger.info(f\"Load CLIP Model {self.config.model_name} to {self.config.cache_dir} is done.\")\n",
    "\n",
    "            processor = CLIPProcessor.from_pretrained(self.config.model_name, cache_dir=self.config.cache_dir)\n",
    "            logger.info(f\"Load CLIP Processor {self.config.model_name} to {self.config.cache_dir} is done.\")\n",
    "\n",
    "            for index, row in data.iterrows():\n",
    "                model_id = row['uids']\n",
    "                description = row[' description']\n",
    "\n",
    "                # Ensure the model_id folder exists in the embedding directory\n",
    "                model_embedding_dir = os.path.join(self.config.embedding_dir, model_id)\n",
    "                create_directories([model_embedding_dir])\n",
    "\n",
    "                text_embedding = self.text_to_latent_vector(description, model, processor)\n",
    "\n",
    "                # Save the embedding\n",
    "                path_to_save_emb = os.path.join(model_embedding_dir, 'condition.pt')\n",
    "                torch.save(text_embedding.squeeze(0), path_to_save_emb)\n",
    "                logger.info(f\"Text embedding of model {model_id} is saved to {path_to_save_emb}.\")\n",
    "        except Exception as e:\n",
    "            raise e"
   ]
  },
  {
   "cell_type": "code",
   "execution_count": 12,
   "metadata": {},
   "outputs": [
    {
     "name": "stdout",
     "output_type": "stream",
     "text": [
      "[2024-09-02 14:17:24,115: INFO: yaml file: config\\config.yaml loaded successfully]\n",
      "[2024-09-02 14:17:24,128: INFO: yaml file: hyper_params.yaml loaded successfully]\n",
      "[2024-09-02 14:17:24,133: INFO: created directory at: artifacts]\n",
      "[2024-09-02 14:17:24,209: INFO: Read of data from artifacts/data_ingestion/objaverse_with_description.csv is done.]\n",
      "[2024-09-02 14:17:31,257: INFO: Load CLIP Model openai/clip-vit-base-patch32 to models is done.]\n",
      "[2024-09-02 14:17:31,770: INFO: Load CLIP Processor openai/clip-vit-base-patch32 to models is done.]\n",
      "[2024-09-02 14:17:31,772: INFO: created directory at: artifacts/dataset/embedding\\ed51a51909ee46c780db3a85e821feb2]\n",
      "[2024-09-02 14:17:31,859: INFO: Text embedding of model ed51a51909ee46c780db3a85e821feb2 is saved to artifacts/dataset/embedding\\ed51a51909ee46c780db3a85e821feb2\\condition.pt.]\n",
      "[2024-09-02 14:17:31,862: INFO: created directory at: artifacts/dataset/embedding\\9110b606f6c547b2980fcb3c8c4b6a1c]\n",
      "[2024-09-02 14:17:31,982: INFO: Text embedding of model 9110b606f6c547b2980fcb3c8c4b6a1c is saved to artifacts/dataset/embedding\\9110b606f6c547b2980fcb3c8c4b6a1c\\condition.pt.]\n"
     ]
    }
   ],
   "source": [
    "try:\n",
    "    config = ConfigurationManager()\n",
    "    text_embedding_config = config.get_text_embedding_config()\n",
    "    text_embedding = TextEmbedding(config= text_embedding_config)\n",
    "    text_embedding.embedding_all()\n",
    "except Exception as e:\n",
    "    raise e"
   ]
  },
  {
   "cell_type": "code",
   "execution_count": null,
   "metadata": {},
   "outputs": [],
   "source": []
  }
 ],
 "metadata": {
  "kernelspec": {
   "display_name": ".venv37",
   "language": "python",
   "name": "python3"
  },
  "language_info": {
   "codemirror_mode": {
    "name": "ipython",
    "version": 3
   },
   "file_extension": ".py",
   "mimetype": "text/x-python",
   "name": "python",
   "nbconvert_exporter": "python",
   "pygments_lexer": "ipython3",
   "version": "3.7.9"
  }
 },
 "nbformat": 4,
 "nbformat_minor": 2
}
