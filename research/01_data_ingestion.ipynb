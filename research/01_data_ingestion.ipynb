{
 "cells": [
  {
   "cell_type": "code",
   "execution_count": 1,
   "metadata": {},
   "outputs": [
    {
     "data": {
      "text/plain": [
       "'c:\\\\Users\\\\lenovo\\\\Desktop\\\\Stage\\\\text-to-3D_Model_Generation\\\\research'"
      ]
     },
     "execution_count": 1,
     "metadata": {},
     "output_type": "execute_result"
    }
   ],
   "source": [
    "import os\n",
    "%pwd"
   ]
  },
  {
   "cell_type": "code",
   "execution_count": 2,
   "metadata": {},
   "outputs": [],
   "source": [
    "os.chdir(\"../\")"
   ]
  },
  {
   "cell_type": "code",
   "execution_count": 3,
   "metadata": {},
   "outputs": [
    {
     "data": {
      "text/plain": [
       "'c:\\\\Users\\\\lenovo\\\\Desktop\\\\Stage\\\\text-to-3D_Model_Generation'"
      ]
     },
     "execution_count": 3,
     "metadata": {},
     "output_type": "execute_result"
    }
   ],
   "source": [
    "%pwd"
   ]
  },
  {
   "cell_type": "code",
   "execution_count": 4,
   "metadata": {},
   "outputs": [],
   "source": [
    "from dataclasses import dataclass\n",
    "from pathlib import Path\n",
    "\n",
    "@dataclass(frozen=True)\n",
    "class DataIngestionConfig:\n",
    "    root_dir: Path\n",
    "    source_url: str\n",
    "    number_of_samples_to_download: int\n",
    "    local_data_file: Path"
   ]
  },
  {
   "cell_type": "code",
   "execution_count": 5,
   "metadata": {},
   "outputs": [],
   "source": [
    "from textTo3DModelGen.constants import *\n",
    "from textTo3DModelGen.utils.common import read_yaml, create_directories"
   ]
  },
  {
   "cell_type": "code",
   "execution_count": 6,
   "metadata": {},
   "outputs": [],
   "source": [
    "class ConfigurationManager:\n",
    "    def __init__(\n",
    "            self, \n",
    "            config_filepath = CONFIG_FILE_PATH,\n",
    "            params_filepath = HYPER_PARAMS_FILE_PATH):\n",
    "        \n",
    "        self.config = read_yaml(config_filepath)\n",
    "        self.params = read_yaml(params_filepath)\n",
    "\n",
    "        create_directories([\n",
    "            self.config.artifacts_root\n",
    "        ])\n",
    "\n",
    "    def get_data_ingestion_config(self) -> DataIngestionConfig:\n",
    "        config = self.config.data_ingestion\n",
    "\n",
    "        create_directories([\n",
    "            config.root_dir\n",
    "        ])\n",
    "\n",
    "        data_ingestion_config = DataIngestionConfig(\n",
    "            root_dir= config.root_dir,\n",
    "            source_url= config.source_url,\n",
    "            number_of_samples_to_download= config.number_of_samples_to_download, \n",
    "            local_data_file= Path(config.local_data_file)\n",
    "        )\n",
    "\n",
    "        return data_ingestion_config\n"
   ]
  },
  {
   "cell_type": "code",
   "execution_count": 7,
   "metadata": {},
   "outputs": [],
   "source": [
    "from textTo3DModelGen import logger\n",
    "from textTo3DModelGen.utils.common import get_size, load_from_url, save_csv, create_directories, load_from_objaverse\n",
    "import multiprocessing\n",
    "import pandas as pd\n",
    "import objaverse"
   ]
  },
  {
   "cell_type": "code",
   "execution_count": 8,
   "metadata": {},
   "outputs": [],
   "source": [
    "class DataIngestion:\n",
    "    def __init__(self, config: DataIngestionConfig):\n",
    "        self.config = config\n",
    "\n",
    "    def download_data(self):\n",
    "        try:\n",
    "            root_dir = self.config.root_dir\n",
    "            create_directories([root_dir])\n",
    "            source_url = self.config.source_url\n",
    "            num_of_samples = self.config.number_of_samples_to_download\n",
    "            local_data_file = self.config.local_data_file\n",
    "            \n",
    "            descriptions = load_from_url(url= source_url, num_of_samples= num_of_samples)\n",
    "            logger.info(f\"Downloaded description from {source_url} with lenght {len(descriptions)}.\")\n",
    "\n",
    "            processes = multiprocessing.cpu_count()\n",
    "            objects = load_from_objaverse(uids = descriptions['uids'], processes = processes)\n",
    "            logger.info(f\"Downloaded {len(objects)} objects from Objaverse Dataset.\")\n",
    "\n",
    "            paths = objaverse._load_object_paths()\n",
    "            saved_path = ['/root/.objaverse/hf-objaverse-v1/' + str(paths[uid]) for uid in descriptions['uids']]\n",
    "            descriptions['saved_path'] = saved_path\n",
    "            save_csv(local_data_file, descriptions)\n",
    "            logger.info(f\"saved objects with description data into {local_data_file} with size {get_size(local_data_file)}.\")\n",
    "        except Exception as e:\n",
    "            raise e"
   ]
  },
  {
   "cell_type": "code",
   "execution_count": 9,
   "metadata": {},
   "outputs": [
    {
     "name": "stdout",
     "output_type": "stream",
     "text": [
      "[2024-08-19 01:42:38,859: INFO: yaml file: config\\config.yaml loaded successfully]\n",
      "[2024-08-19 01:42:38,862: INFO: yaml file: hyper_params.yaml loaded successfully]\n",
      "[2024-08-19 01:42:38,864: INFO: created directory at: artifacts]\n",
      "[2024-08-19 01:42:38,867: INFO: created directory at: artifacts/data_ingestion]\n",
      "[2024-08-19 01:42:38,869: INFO: created directory at: artifacts/data_ingestion]\n",
      "[2024-08-19 01:43:00,458: INFO: Downloaded description from https://huggingface.co/datasets/tiange/Cap3D/resolve/main/Cap3D_automated_Objaverse_full.csv with lenght 2.]\n",
      "[2024-08-19 01:43:02,214: INFO: Downloaded 0 objects from Objaverse Dataset.]\n",
      "[2024-08-19 01:43:03,692: INFO: saved objects with description data into artifacts\\data_ingestion\\objaverse_with_description.csv with size ~ 0 MB.]\n"
     ]
    }
   ],
   "source": [
    "try:\n",
    "    config = ConfigurationManager()\n",
    "    data_ingestion_config = config.get_data_ingestion_config()\n",
    "    data_ingestion = DataIngestion(config= data_ingestion_config)\n",
    "    data_ingestion.download_data()\n",
    "except Exception as e:\n",
    "    raise e"
   ]
  },
  {
   "cell_type": "code",
   "execution_count": null,
   "metadata": {},
   "outputs": [],
   "source": []
  }
 ],
 "metadata": {
  "kernelspec": {
   "display_name": ".venv",
   "language": "python",
   "name": "python3"
  },
  "language_info": {
   "codemirror_mode": {
    "name": "ipython",
    "version": 3
   },
   "file_extension": ".py",
   "mimetype": "text/x-python",
   "name": "python",
   "nbconvert_exporter": "python",
   "pygments_lexer": "ipython3",
   "version": "3.12.0"
  }
 },
 "nbformat": 4,
 "nbformat_minor": 2
}
